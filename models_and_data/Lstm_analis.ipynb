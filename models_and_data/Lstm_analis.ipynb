{
 "cells": [
  {
   "cell_type": "code",
   "execution_count": 1,
   "id": "41f4aea0-f384-492d-b396-be82649d8531",
   "metadata": {},
   "outputs": [
    {
     "name": "stderr",
     "output_type": "stream",
     "text": [
      "C:\\Users\\Марсель\\AppData\\Local\\Programs\\Python\\Python311\\Lib\\site-packages\\albumentations\\__init__.py:13: UserWarning: A new version of Albumentations is available: 1.4.20 (you have 1.4.14). Upgrade using: pip install -U albumentations. To disable automatic update checks, set the environment variable NO_ALBUMENTATIONS_UPDATE to 1.\n",
      "  check_for_updates()\n"
     ]
    }
   ],
   "source": [
    "import os\n",
    "import cv2\n",
    "import zipfile\n",
    "import numpy as np\n",
    "import pandas as pd\n",
    "from PIL import Image\n",
    "from tqdm.auto import tqdm\n",
    "import matplotlib.pyplot as plt\n",
    "import seaborn as sns\n",
    "import pickle\n",
    "import datetime\n",
    "import torch\n",
    "import torchvision\n",
    "import torch.nn as nn\n",
    "import albumentations as A\n",
    "import torch.optim as optim\n",
    "from torchvision import models\n",
    "import torch.nn.functional as F\n",
    "from torch.optim import lr_scheduler\n",
    "import torchvision.datasets as datasets\n",
    "import torchvision.transforms as transforms\n",
    "from torchvision.datasets import ImageFolder\n",
    "from albumentations.pytorch import ToTensorV2 \n",
    "from torch.utils.data import DataLoader, Dataset\n",
    "\n",
    "from sklearn.model_selection import train_test_split\n",
    "from sklearn.base import BaseEstimator\n",
    "from sklearn.preprocessing import StandardScaler, MinMaxScaler, MaxAbsScaler\n",
    "from sklearn.linear_model import LogisticRegression, LinearRegression, RidgeClassifier, Lasso\n",
    "from sklearn.ensemble import RandomForestClassifier\n",
    "from sklearn.tree import DecisionTreeClassifier\n",
    "from sklearn.model_selection import cross_val_score, GridSearchCV\n",
    "from sklearn.metrics import accuracy_score, confusion_matrix, f1_score, mean_squared_error\n",
    "from sklearn.cluster import KMeans, DBSCAN\n",
    "from sklearn.neighbors import KNeighborsClassifier\n",
    "from sklearn.neural_network import MLPClassifier\n",
    "from sklearn.gaussian_process import GaussianProcessClassifier\n",
    "from sklearn.gaussian_process.kernels import RBF\n",
    "from sklearn.preprocessing import OneHotEncoder\n",
    "import xgboost\n",
    "from catboost import CatBoostClassifier, Pool # cat_features parametr !\n",
    "\n",
    "from statsmodels.tsa.stattools import adfuller\n",
    "import statsmodels.api as smon\n",
    "from scipy import stats\n",
    "\n",
    "from tensorflow import keras\n",
    "from tensorflow.keras.layers import Bidirectional, Dropout, Activation, Dense, LSTM\n",
    "from tensorflow.keras.models import Sequential"
   ]
  },
  {
   "cell_type": "code",
   "execution_count": 2,
   "id": "e3392665-caa7-493a-9eb4-692b382bd047",
   "metadata": {},
   "outputs": [],
   "source": [
    "df = pd.read_excel(\"xaks/Объёмы_перевозок.xls\")\n",
    "ef = pd.read_csv(\"xaks/Объёмы перевозок.csv\")"
   ]
  },
  {
   "cell_type": "code",
   "execution_count": 3,
   "id": "b1dc3090-d2e5-49f9-8f44-169b43619740",
   "metadata": {
    "scrolled": true
   },
   "outputs": [
    {
     "data": {
      "text/html": [
       "<div>\n",
       "<style scoped>\n",
       "    .dataframe tbody tr th:only-of-type {\n",
       "        vertical-align: middle;\n",
       "    }\n",
       "\n",
       "    .dataframe tbody tr th {\n",
       "        vertical-align: top;\n",
       "    }\n",
       "\n",
       "    .dataframe thead th {\n",
       "        text-align: right;\n",
       "    }\n",
       "</style>\n",
       "<table border=\"1\" class=\"dataframe\">\n",
       "  <thead>\n",
       "    <tr style=\"text-align: right;\">\n",
       "      <th></th>\n",
       "      <th>ID</th>\n",
       "      <th>Субъект федерации отп</th>\n",
       "      <th>Субъект федерации наз</th>\n",
       "      <th>Код груза</th>\n",
       "      <th>Гр груза по опер.номен</th>\n",
       "      <th>Провозная плата</th>\n",
       "      <th>Объем перевозок(тн)</th>\n",
       "      <th>Провозная плата</th>\n",
       "      <th>Объем перевозок(тн).1</th>\n",
       "      <th>Провозная плата.1</th>\n",
       "      <th>...</th>\n",
       "      <th>Провозная плата.26</th>\n",
       "      <th>Объем перевозок(тн).27</th>\n",
       "      <th>Провозная плата.27</th>\n",
       "      <th>Объем перевозок(тн).28</th>\n",
       "      <th>Провозная плата.28</th>\n",
       "      <th>Объем перевозок(тн).29</th>\n",
       "      <th>Провозная плата.29</th>\n",
       "      <th>Объем перевозок(тн).30</th>\n",
       "      <th>Провозная плата.30</th>\n",
       "      <th>Объем перевозок(тн).31</th>\n",
       "    </tr>\n",
       "  </thead>\n",
       "  <tbody>\n",
       "    <tr>\n",
       "      <th>0</th>\n",
       "      <td>21220</td>\n",
       "      <td>Рязанская область</td>\n",
       "      <td>Оренбургская область</td>\n",
       "      <td>39146</td>\n",
       "      <td>МЕТИЗЫ</td>\n",
       "      <td>0</td>\n",
       "      <td>0</td>\n",
       "      <td>0</td>\n",
       "      <td>0</td>\n",
       "      <td>140356</td>\n",
       "      <td>...</td>\n",
       "      <td>0</td>\n",
       "      <td>0</td>\n",
       "      <td>0</td>\n",
       "      <td>0</td>\n",
       "      <td>0</td>\n",
       "      <td>0</td>\n",
       "      <td>0</td>\n",
       "      <td>0</td>\n",
       "      <td>0</td>\n",
       "      <td>0</td>\n",
       "    </tr>\n",
       "    <tr>\n",
       "      <th>1</th>\n",
       "      <td>912</td>\n",
       "      <td>Кировская область</td>\n",
       "      <td>Саратовская область</td>\n",
       "      <td>32411</td>\n",
       "      <td>ЧЕРНЫЕ МЕТАЛЛЫ</td>\n",
       "      <td>0</td>\n",
       "      <td>0</td>\n",
       "      <td>0</td>\n",
       "      <td>0</td>\n",
       "      <td>0</td>\n",
       "      <td>...</td>\n",
       "      <td>0</td>\n",
       "      <td>0</td>\n",
       "      <td>0</td>\n",
       "      <td>0</td>\n",
       "      <td>0</td>\n",
       "      <td>0</td>\n",
       "      <td>0</td>\n",
       "      <td>0</td>\n",
       "      <td>0</td>\n",
       "      <td>0</td>\n",
       "    </tr>\n",
       "    <tr>\n",
       "      <th>2</th>\n",
       "      <td>912</td>\n",
       "      <td>Кировская область</td>\n",
       "      <td>Приморский край</td>\n",
       "      <td>32411</td>\n",
       "      <td>ЧЕРНЫЕ МЕТАЛЛЫ</td>\n",
       "      <td>675705</td>\n",
       "      <td>203</td>\n",
       "      <td>0</td>\n",
       "      <td>0</td>\n",
       "      <td>0</td>\n",
       "      <td>...</td>\n",
       "      <td>0</td>\n",
       "      <td>0</td>\n",
       "      <td>0</td>\n",
       "      <td>0</td>\n",
       "      <td>4668608</td>\n",
       "      <td>1155</td>\n",
       "      <td>1440050</td>\n",
       "      <td>476</td>\n",
       "      <td>0</td>\n",
       "      <td>0</td>\n",
       "    </tr>\n",
       "    <tr>\n",
       "      <th>3</th>\n",
       "      <td>912</td>\n",
       "      <td>Кировская область</td>\n",
       "      <td>Удмуртская Республика</td>\n",
       "      <td>32411</td>\n",
       "      <td>ЧЕРНЫЕ МЕТАЛЛЫ</td>\n",
       "      <td>0</td>\n",
       "      <td>0</td>\n",
       "      <td>0</td>\n",
       "      <td>0</td>\n",
       "      <td>62576</td>\n",
       "      <td>...</td>\n",
       "      <td>169376</td>\n",
       "      <td>188</td>\n",
       "      <td>113008</td>\n",
       "      <td>134</td>\n",
       "      <td>0</td>\n",
       "      <td>0</td>\n",
       "      <td>0</td>\n",
       "      <td>0</td>\n",
       "      <td>224378</td>\n",
       "      <td>274</td>\n",
       "    </tr>\n",
       "    <tr>\n",
       "      <th>4</th>\n",
       "      <td>912</td>\n",
       "      <td>Кировская область</td>\n",
       "      <td>Оренбургская область</td>\n",
       "      <td>32411</td>\n",
       "      <td>ЧЕРНЫЕ МЕТАЛЛЫ</td>\n",
       "      <td>0</td>\n",
       "      <td>0</td>\n",
       "      <td>0</td>\n",
       "      <td>0</td>\n",
       "      <td>0</td>\n",
       "      <td>...</td>\n",
       "      <td>155240</td>\n",
       "      <td>62</td>\n",
       "      <td>776200</td>\n",
       "      <td>343</td>\n",
       "      <td>151120</td>\n",
       "      <td>65</td>\n",
       "      <td>0</td>\n",
       "      <td>0</td>\n",
       "      <td>0</td>\n",
       "      <td>0</td>\n",
       "    </tr>\n",
       "  </tbody>\n",
       "</table>\n",
       "<p>5 rows × 69 columns</p>\n",
       "</div>"
      ],
      "text/plain": [
       "      ID Субъект федерации отп  Субъект федерации наз  Код груза  \\\n",
       "0  21220     Рязанская область   Оренбургская область      39146   \n",
       "1    912     Кировская область    Саратовская область      32411   \n",
       "2    912     Кировская область        Приморский край      32411   \n",
       "3    912     Кировская область  Удмуртская Республика      32411   \n",
       "4    912     Кировская область   Оренбургская область      32411   \n",
       "\n",
       "  Гр груза по опер.номен  Провозная плата   Объем перевозок(тн)  \\\n",
       "0                 МЕТИЗЫ                 0                    0   \n",
       "1         ЧЕРНЫЕ МЕТАЛЛЫ                 0                    0   \n",
       "2         ЧЕРНЫЕ МЕТАЛЛЫ            675705                  203   \n",
       "3         ЧЕРНЫЕ МЕТАЛЛЫ                 0                    0   \n",
       "4         ЧЕРНЫЕ МЕТАЛЛЫ                 0                    0   \n",
       "\n",
       "   Провозная плата  Объем перевозок(тн).1  Провозная плата.1  ...  \\\n",
       "0                0                      0             140356  ...   \n",
       "1                0                      0                  0  ...   \n",
       "2                0                      0                  0  ...   \n",
       "3                0                      0              62576  ...   \n",
       "4                0                      0                  0  ...   \n",
       "\n",
       "   Провозная плата.26  Объем перевозок(тн).27  Провозная плата.27  \\\n",
       "0                   0                       0                   0   \n",
       "1                   0                       0                   0   \n",
       "2                   0                       0                   0   \n",
       "3              169376                     188              113008   \n",
       "4              155240                      62              776200   \n",
       "\n",
       "   Объем перевозок(тн).28  Провозная плата.28  Объем перевозок(тн).29  \\\n",
       "0                       0                   0                       0   \n",
       "1                       0                   0                       0   \n",
       "2                       0             4668608                    1155   \n",
       "3                     134                   0                       0   \n",
       "4                     343              151120                      65   \n",
       "\n",
       "   Провозная плата.29  Объем перевозок(тн).30  Провозная плата.30  \\\n",
       "0                   0                       0                   0   \n",
       "1                   0                       0                   0   \n",
       "2             1440050                     476                   0   \n",
       "3                   0                       0              224378   \n",
       "4                   0                       0                   0   \n",
       "\n",
       "   Объем перевозок(тн).31  \n",
       "0                       0  \n",
       "1                       0  \n",
       "2                       0  \n",
       "3                     274  \n",
       "4                       0  \n",
       "\n",
       "[5 rows x 69 columns]"
      ]
     },
     "execution_count": 3,
     "metadata": {},
     "output_type": "execute_result"
    }
   ],
   "source": [
    "ef.head()"
   ]
  },
  {
   "cell_type": "code",
   "execution_count": 4,
   "id": "727ff2ee-a7b3-4729-b0dc-31137a7d814a",
   "metadata": {},
   "outputs": [],
   "source": [
    "time = df.iloc[0]\n",
    "time = pd.DataFrame(time)"
   ]
  },
  {
   "cell_type": "code",
   "execution_count": 6,
   "id": "26302060-99b6-4b02-9706-b5f5cf4e420f",
   "metadata": {},
   "outputs": [],
   "source": [
    "dict_of_clients_api = {}\n",
    "for index in range(13425):\n",
    "    devirely = ef.iloc[index]\n",
    "    dev = pd.DataFrame(devirely)\n",
    "    devs = []\n",
    "    for i in dev[index]:\n",
    "        devs.append(i)\n",
    "    id_index = devs[0]\n",
    "    dever_info = devs[6::2]\n",
    "    dict_of_clients_api[id_index] = dever_info"
   ]
  },
  {
   "cell_type": "code",
   "execution_count": 8,
   "id": "c5260277-e4bc-42b0-a085-363e38fe95e2",
   "metadata": {},
   "outputs": [],
   "source": [
    "dev = dev.dropna()"
   ]
  },
  {
   "cell_type": "code",
   "execution_count": 9,
   "id": "5f94e06c-9672-4f11-8688-df9aa2c0390b",
   "metadata": {},
   "outputs": [],
   "source": [
    "time = time.dropna()"
   ]
  },
  {
   "cell_type": "code",
   "execution_count": 12,
   "id": "b0c2651c-5831-46b6-b11e-9e87b730a543",
   "metadata": {},
   "outputs": [
    {
     "name": "stderr",
     "output_type": "stream",
     "text": [
      "C:\\Users\\Марсель\\AppData\\Local\\Temp\\ipykernel_14436\\2097115007.py:3: FutureWarning: Series.__getitem__ treating keys as positions is deprecated. In a future version, integer keys will always be treated as labels (consistent with DataFrame behavior). To access a value by position, use `ser.iloc[pos]`\n",
      "  mas.append(time[0][i])\n"
     ]
    }
   ],
   "source": [
    "mas = []\n",
    "for i in range(1, len(time[0]), 2):\n",
    "    mas.append(time[0][i])"
   ]
  },
  {
   "cell_type": "code",
   "execution_count": 391,
   "id": "23743180-ddf8-401c-b4fb-075499d1f127",
   "metadata": {},
   "outputs": [
    {
     "data": {
      "image/png": "[encoded data removed]",
      "text/plain": [
       "<Figure size 1000x800 with 2 Axes>"
      ]
     },
     "metadata": {},
     "output_type": "display_data"
    }
   ],
   "source": [
    "table = data.corr()\n",
    "table\n",
    "plt.figure(figsize=(10, 8))\n",
    "sns.heatmap(table, annot=True, linewidth=0.5)\n",
    "plt.show()"
   ]
  },
  {
   "cell_type": "code",
   "execution_count": 383,
   "id": "d638e470-f776-4553-bbe6-ea67365272eb",
   "metadata": {},
   "outputs": [],
   "source": [
    "#devs = []\n",
    "#for i in dev[index]:\n",
    "#    devs.append(i)\n",
    "#id_index = devs[0]\n",
    "#dever_info = devs[6::2]"
   ]
  },
  {
   "cell_type": "code",
   "execution_count": 384,
   "id": "69302e62-69e7-417b-9885-689467805ddf",
   "metadata": {},
   "outputs": [],
   "source": [
    "#id_index = devs[0]\n",
    "#dever_info = devs[6::2]"
   ]
  },
  {
   "cell_type": "code",
   "execution_count": null,
   "id": "4e317301-dab1-4750-a92c-024dece0f96e",
   "metadata": {},
   "outputs": [],
   "source": [
    "#d = {'date': mas, 'deverily_mas': dict_of_clients_api[index]}\n",
    "#df_dict[id_index] = pd.DataFrame(d)"
   ]
  },
  {
   "cell_type": "code",
   "execution_count": 389,
   "id": "773cb689-9742-4740-8a81-70f22cd3618b",
   "metadata": {},
   "outputs": [],
   "source": [
    "#to_time = lambda x: datetime.datetime.strptime(x, \"%Y/%m\")\n",
    "#data['date'] = data['date'].apply(to_time)"
   ]
  },
  {
   "cell_type": "code",
   "execution_count": 392,
   "id": "308af997-f7ba-4ec6-acec-5f2738c57734",
   "metadata": {},
   "outputs": [],
   "source": [
    "#data.index = data['date']\n",
    "#data = data.drop(['date'], axis = 1)"
   ]
  },
  {
   "cell_type": "code",
   "execution_count": 91,
   "id": "e78983f0-47e5-4025-b5df-fb36c04ab9e4",
   "metadata": {},
   "outputs": [],
   "source": [
    "to_time = lambda x: datetime.datetime.strptime(x, \"%Y/%m\") #Делаем перевод в datetime\n",
    "dict_of_clients_api = {}\n",
    "df_dict = {}\n",
    "for index in range(13425):\n",
    "    devirely = ef.iloc[index]\n",
    "    dev = pd.DataFrame(devirely)\n",
    "    devs = []\n",
    "    for i in dev[index]:\n",
    "        devs.append(i)\n",
    "    id_index = devs[0]\n",
    "    dever_info = devs[6::2]\n",
    "    dict_of_clients_api[id_index] = dever_info\n",
    "for i in dict_of_clients_api:\n",
    "    d = {'date': mas, 'deverily_mas': dict_of_clients_api[i]}\n",
    "    df_dict[i] = pd.DataFrame(d)\n",
    "    df_dict[i]['date'] = df_dict[i]['date'].apply(to_time)\n",
    "    df_dict[i].index = df_dict[i]['date']\n",
    "    df_dict[i] = df_dict[i].drop(['date'], axis = 1)\n",
    "    df_dict[i] = df_dict[i].sort_index(ascending=True)\n",
    "\n",
    "#Суть большого куска кода - сделать датасеты для lstm модели для каждого клиента и отслортировать его"
   ]
  },
  {
   "cell_type": "code",
   "execution_count": null,
   "id": "d22e2faf-89d9-4a42-818e-4221f24c2b91",
   "metadata": {},
   "outputs": [],
   "source": [
    "#по итогам попытки обучить модель нет смысла обучать по отдельности, ведь данные не сбалансированные.Будем обьединять их"
   ]
  },
  {
   "cell_type": "code",
   "execution_count": 92,
   "id": "f86c708b-c527-4d06-a96b-f77e9e43e6f3",
   "metadata": {},
   "outputs": [],
   "source": [
    "scaler = StandardScaler()\n",
    "import tensorflow\n",
    "from tensorflow.python.keras.layers import Input, Dense\n",
    "from tensorflow.keras.layers import Bidirectional, Dropout, Activation, Dense, LSTM\n",
    "from tensorflow.keras.models import Sequential"
   ]
  },
  {
   "cell_type": "code",
   "execution_count": null,
   "id": "46175c58-665e-4083-8003-335a6b8e3b31",
   "metadata": {},
   "outputs": [],
   "source": [
    "#Обьединение датасетов в один\n"
   ]
  },
  {
   "cell_type": "code",
   "execution_count": 71,
   "id": "684d7bd1-5180-41f3-ac63-8fcd50fa3fb1",
   "metadata": {},
   "outputs": [],
   "source": [
    "#scaler = StandardScaler() # Стандартезируем данные\n",
    "#data = scaler.fit_transform(df_dict[912])"
   ]
  }
 ],
 "metadata": {
  "kernelspec": {
   "display_name": "Python 3 (ipykernel)",
   "language": "python",
   "name": "python3"
  },
  "language_info": {
   "codemirror_mode": {
    "name": "ipython",
    "version": 3
   },
   "file_extension": ".py",
   "mimetype": "text/x-python",
   "name": "python",
   "nbconvert_exporter": "python",
   "pygments_lexer": "ipython3",
   "version": "3.11.9"
  }
 },
 "nbformat": 4,
 "nbformat_minor": 5
}
